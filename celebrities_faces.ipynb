{
 "cells": [
  {
   "cell_type": "code",
   "execution_count": 10,
   "id": "8ec0ab63-b13a-4564-9041-6be9460ca647",
   "metadata": {},
   "outputs": [],
   "source": [
    "#Employee = class\n",
    "#emp_1 = instance\n",
    "#fullname = method"
   ]
  },
  {
   "cell_type": "code",
   "execution_count": 1,
   "id": "f7900433-64c2-4bf4-beaf-af5f50e1b368",
   "metadata": {},
   "outputs": [],
   "source": [
    "class Employee:\n",
    "    # creating methods inside our class \n",
    "    def __init__(self, first, last, pay): # initialize method \n",
    "        self.first = first\n",
    "        self.last = last\n",
    "        self.pay = pay\n",
    "        self.email = first + '.' + last + '@company.com' \n",
    "    \n",
    "    def fullname(self): # each method automatically takes the instance as the first argument, which we call 'self'\n",
    "        return '{} {}'.format(self.first, self.last)"
   ]
  },
  {
   "cell_type": "code",
   "execution_count": 2,
   "id": "ebdc0649-2806-490d-b2f9-368bf1050ad4",
   "metadata": {},
   "outputs": [],
   "source": [
    "#class = blueprint for creating instances\n",
    "#class instance = each unique employee that we create using our employee class "
   ]
  },
  {
   "cell_type": "code",
   "execution_count": 3,
   "id": "f02cef91-2323-481e-aca9-cf6ecbdb4944",
   "metadata": {},
   "outputs": [],
   "source": [
    "# names, surname, pay, are all attributes of our class."
   ]
  },
  {
   "cell_type": "code",
   "execution_count": 4,
   "id": "6c02e13a-4ab5-44cb-8cf1-c654af74d15e",
   "metadata": {},
   "outputs": [],
   "source": [
    "emp_1 = Employee('Giorgia', 'Dimiccoli', 34800)\n",
    "emp_2 = Employee('Test', 'User', 60000) "
   ]
  },
  {
   "cell_type": "code",
   "execution_count": 5,
   "id": "ce4deede-c03d-40a3-98f5-63b8d7bc4830",
   "metadata": {},
   "outputs": [],
   "source": [
    "#print(emp_1)\n",
    "#print(emp_2)"
   ]
  },
  {
   "cell_type": "code",
   "execution_count": 6,
   "id": "1a2b22e9-514b-4bc1-bb00-27c8c938bb4c",
   "metadata": {},
   "outputs": [
    {
     "name": "stdout",
     "output_type": "stream",
     "text": [
      "Giorgia.Dimiccoli@company.com\n",
      "Test.User@company.com\n"
     ]
    }
   ],
   "source": [
    "print(emp_1.email)\n",
    "print(emp_2.email)"
   ]
  },
  {
   "cell_type": "code",
   "execution_count": 8,
   "id": "ed60c915-441a-43f5-8bcb-514fe208964d",
   "metadata": {},
   "outputs": [
    {
     "name": "stdout",
     "output_type": "stream",
     "text": [
      "Giorgia Dimiccoli\n"
     ]
    }
   ],
   "source": [
    "print(emp_1.fullname())"
   ]
  },
  {
   "cell_type": "code",
   "execution_count": 9,
   "id": "3590c66f-5e4f-44d2-9e0b-ef22ce349626",
   "metadata": {},
   "outputs": [
    {
     "name": "stdout",
     "output_type": "stream",
     "text": [
      "Test User\n"
     ]
    }
   ],
   "source": [
    "print(emp_2.fullname())"
   ]
  },
  {
   "cell_type": "code",
   "execution_count": null,
   "id": "867f5e8f-b78f-4452-b0b7-28ec7da26107",
   "metadata": {},
   "outputs": [],
   "source": [
    "Employee.fullname(emp_1)"
   ]
  }
 ],
 "metadata": {
  "kernelspec": {
   "display_name": "Python 3 (ipykernel)",
   "language": "python",
   "name": "python3"
  },
  "language_info": {
   "codemirror_mode": {
    "name": "ipython",
    "version": 3
   },
   "file_extension": ".py",
   "mimetype": "text/x-python",
   "name": "python",
   "nbconvert_exporter": "python",
   "pygments_lexer": "ipython3",
   "version": "3.9.12"
  }
 },
 "nbformat": 4,
 "nbformat_minor": 5
}
