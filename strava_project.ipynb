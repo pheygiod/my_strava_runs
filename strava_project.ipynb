{
 "cells": [
  {
   "cell_type": "markdown",
   "id": "144d41f8-7fc2-4ba5-88a7-19e3b7d6c5b1",
   "metadata": {},
   "source": [
    "# \"Run Girl Run\": Visualising My Strava Activities with APIs"
   ]
  },
  {
   "cell_type": "markdown",
   "id": "c2949001-6737-4445-a80b-564a4e3594ee",
   "metadata": {},
   "source": [
    "## Introduction"
   ]
  },
  {
   "cell_type": "markdown",
   "id": "0879749e-50ff-43d6-994d-3ead4331b4fc",
   "metadata": {},
   "source": [
    "The purpose of this project is to explore my sports activity patterns througohut the last year. I like to go for long runs, practice sports such as tennis and padel, and sometimes go to the gym when it's rainy outside. The platform that I use to keep track of my physical activities is Strava, an American internet service for tracking physical exercise which also has the features of a social media. It's a nice platform where I can look back at my average pace of my fast runs, look at the maps of my long runs, and get motivated by receiving kudos from my friends and vice versa!\n",
    "\n",
    "In order to analyse my activity on my JupyterLab, I need to scrape the data from my Strava account (through the APIs they provide), and download it locally. I read [this](https://towardsdatascience.com/using-the-strava-api-and-pandas-to-explore-your-activity-data-d94901d9bfde) online article which helped me in the process of downloading the necessary tools to test Strava APIs, getting access and refresh tokens, and finally getting the data with Python. Would highly recommend to anybody who's new to APIs and would like to give it a go. \n",
    "\n",
    "Once I've done that, I then started exploring my data through publicly available libraries such as Pandas and NumPy. After having cleansed my data, I aimed at answering the following questions:\n",
    "\n",
    "- What's the most frequent activity that I've performed in the past year?\n",
    "- What's the most common run distance I've performed in the past few years?\n",
    "- Has my average pace decreased during my fast, 5km runs throughout the past year?\n",
    "- In which country/ county did I exercise the most in the past years?"
   ]
  },
  {
   "cell_type": "markdown",
   "id": "adc62996-450b-42bb-95e8-74b122c17eec",
   "metadata": {
    "tags": []
   },
   "source": [
    "## Getting our Data"
   ]
  },
  {
   "cell_type": "code",
   "execution_count": null,
   "id": "854cbd07-23a7-4bb5-b4e1-69cc37ca3a40",
   "metadata": {},
   "outputs": [],
   "source": [
    "import calendar\n",
    "from datetime import datetime\n",
    "from IPython.display import Image, display\n",
    "import matplotlib.pyplot as plt\n",
    "import numpy as np\n",
    "import os \n",
    "import pandas as pd\n",
    "import seaborn as sns"
   ]
  },
  {
   "cell_type": "code",
   "execution_count": null,
   "id": "e7853a21-733e-44f5-b669-d45a2a15263d",
   "metadata": {},
   "outputs": [],
   "source": [
    "from utils import (\n",
    "    getting_access_and_refresh_tokens, \n",
    "    get_dataset,\n",
    "    convert_to_hhmmss,\n",
    "    start_date_to_y_m_d_t,\n",
    "    converting_num_months_to_strings,\n",
    "    sorting_values_by_year,\n",
    "    converting_metres_into_kms,\n",
    "    creating_a_total_column,\n",
    "    plotting_table_into_grouped_bar_chart,\n",
    "    remove_rows_by_sport_type,\n",
    "    creating_bins,\n",
    "    calculating_basic_statistics,\n",
    "    plotting_a_histogram\n",
    ")"
   ]
  },
  {
   "cell_type": "code",
   "execution_count": null,
   "id": "e107b2a3-8af4-481a-9ed7-5cb03fac0219",
   "metadata": {},
   "outputs": [],
   "source": [
    "access_token = getting_access_and_refresh_tokens(\n",
    "    client_id=\"111330\",\n",
    "    client_secret='db75227de1fa38f856b4ce323affe796687943ef',\n",
    "    refresh_token='186b85fbbff3960fcfb5ec338fac12cb356611ce',\n",
    ")"
   ]
  },
  {
   "cell_type": "code",
   "execution_count": null,
   "id": "cbb36b97-a66f-4c89-8ab6-d01a30fe2fe6",
   "metadata": {},
   "outputs": [],
   "source": [
    "# Getting the dataset \n",
    "df_original = get_dataset(access_token) # applying the get_dataset function "
   ]
  },
  {
   "cell_type": "code",
   "execution_count": null,
   "id": "ca4fb7b8-8f8e-4840-bb5d-8f593b63fa78",
   "metadata": {},
   "outputs": [],
   "source": [
    "# Creating a copy of the original dataset \n",
    "df = df_original.copy()"
   ]
  },
  {
   "cell_type": "markdown",
   "id": "f4f82a12-0529-46ee-b3b1-6c29a9aa1412",
   "metadata": {},
   "source": [
    "## Cleaning the main dataframe"
   ]
  },
  {
   "cell_type": "code",
   "execution_count": null,
   "id": "2f8bcfa7-4bea-42ed-96d8-4ab625a809d1",
   "metadata": {},
   "outputs": [],
   "source": [
    "# Converting moving_time into hours, minutes, and seconds\n",
    "df[\"moving_time\"] = df[\"moving_time\"].apply(convert_to_hhmmss)"
   ]
  },
  {
   "cell_type": "code",
   "execution_count": null,
   "id": "e1ecec6b-eb00-4dfa-86fd-ebebba3e25bc",
   "metadata": {},
   "outputs": [],
   "source": [
    "# Splitting the 'start_date' into years, months, days, and times \n",
    "df[[\"year\", \"month\", \"day\", \"time\"]] = df[\"start_date\"].apply(start_date_to_y_m_d_t)"
   ]
  },
  {
   "cell_type": "code",
   "execution_count": null,
   "id": "fd511a9e-3d88-45ea-b6c4-53b3e98393e0",
   "metadata": {},
   "outputs": [],
   "source": [
    "# Converting number of months into names of the month \n",
    "df = converting_num_months_to_strings(df)"
   ]
  },
  {
   "cell_type": "code",
   "execution_count": null,
   "id": "3826122c-64e5-4625-b192-95a4b8834e9a",
   "metadata": {},
   "outputs": [],
   "source": [
    "# Sorting all values by year\n",
    "df = df.sort_values(\"year\")"
   ]
  },
  {
   "cell_type": "code",
   "execution_count": null,
   "id": "a6327117-3016-42d0-9354-ffa55770920e",
   "metadata": {},
   "outputs": [],
   "source": [
    "# Converting the distance column from metres into kms\n",
    "df = converting_metres_into_kms(df)"
   ]
  },
  {
   "cell_type": "markdown",
   "id": "05bbc6c4-c795-4f69-b565-3c3845b19156",
   "metadata": {
    "tags": []
   },
   "source": [
    "## Visualising our Data"
   ]
  },
  {
   "cell_type": "markdown",
   "id": "619db6af-706f-42db-b690-67e417add965",
   "metadata": {},
   "source": [
    "#### Sport by Month Frequency Table (2023)"
   ]
  },
  {
   "cell_type": "markdown",
   "id": "92713162-4273-44fe-928d-b8db4c677102",
   "metadata": {
    "tags": []
   },
   "source": [
    "Let's now answer the first of our research questions. What's the most frequent activity that I've performed in the past year? We will create a filtered dataframe."
   ]
  },
  {
   "cell_type": "code",
   "execution_count": null,
   "id": "6b84e3a1-c759-4d56-9266-580e5e223f9c",
   "metadata": {},
   "outputs": [],
   "source": [
    "# Filtering data based on the 'year' column\n",
    "year_to_filter = 2023\n",
    "filtered_df = df[df['year'] == year_to_filter] # creating a filtered dataframe to select only activities performed in 2023 "
   ]
  },
  {
   "cell_type": "markdown",
   "id": "84680a79-da99-405c-85da-0aa4c8d43b1e",
   "metadata": {},
   "source": [
    "Before creating the frequency table, let's cleanse the data."
   ]
  },
  {
   "cell_type": "code",
   "execution_count": null,
   "id": "b99983a4-5c2d-404a-a930-9270ae1580c2",
   "metadata": {},
   "outputs": [],
   "source": [
    "# Replacing values in 'sport_type' with 'Padel'\n",
    "filtered_df.loc[filtered_df['name'].str.contains('Padel'), 'sport_type'] = 'Padel' # Strava does not have padel as a sport yet \n",
    "\n",
    "# Replacing infrequent activities with 'Workout' to reduce the amount of 'sport_type(s)'\n",
    "filtered_df['sport_type'] = filtered_df['sport_type'].replace('WeightTraining', 'Workout')\n",
    "filtered_df['sport_type'] = filtered_df['sport_type'].replace('HighIntensityIntervalTraining', 'Workout')"
   ]
  },
  {
   "cell_type": "code",
   "execution_count": null,
   "id": "c430badd-09eb-4742-a0b8-755eb205f82d",
   "metadata": {},
   "outputs": [],
   "source": [
    "# Removing activities practiced only once or twice\n",
    "sport_types_to_remove = ['Yoga', 'Hike', 'Walk', 'Badminton']\n",
    "filtered_df = remove_rows_by_sport_type(filtered_df, sport_types_to_remove)"
   ]
  },
  {
   "cell_type": "code",
   "execution_count": null,
   "id": "ca979482-2c77-491c-b759-a5393957fea0",
   "metadata": {},
   "outputs": [],
   "source": [
    "# Calculating the frequency of sports practiced by month \n",
    "frequency_table = filtered_df.groupby(['sport_type', 'month']).size().unstack(fill_value=0) # adding size to count the occurrences. filling missing values with 'unstack' "
   ]
  },
  {
   "cell_type": "code",
   "execution_count": null,
   "id": "b01a6f2d-c045-4b2e-ac37-f05b37dba9bb",
   "metadata": {},
   "outputs": [],
   "source": [
    "# Creating a 'total' column to sort all values from biggest to smallest  \n",
    "frequency_table = creating_a_total_column(frequency_table)"
   ]
  },
  {
   "cell_type": "markdown",
   "id": "4263fb23-87d5-4ff2-a471-d99f5a552e8b",
   "metadata": {},
   "source": [
    "The most frequent activity in the past year is running, followed by padel. Let's now use this frequency table to create a grouped bar chart."
   ]
  },
  {
   "cell_type": "code",
   "execution_count": null,
   "id": "0291aa70-680d-4b37-8b42-0f6a9cfe6d76",
   "metadata": {},
   "outputs": [],
   "source": [
    "# Plotting a frequency table into a grouped bar chart\n",
    "frequency_table = plotting_table_into_grouped_bar_chart(frequency_table)\n",
    "frequency_table"
   ]
  },
  {
   "cell_type": "markdown",
   "id": "d6dbe484-a67b-4d0b-b1ae-210862e30ba6",
   "metadata": {},
   "source": [
    "It looks like runs are the most frequent activities, followed by padel. The month with the highest number of runs is May. This might be because I was training for a Trail Half Marathon which took place at the beginning of June. This could also explain why the month with the lowest amount of run activities was June, since I was going through post-race recovery. We can also observe the diversity in sports which took place in August and September. This might be because of the nice weather thus the multiple activities which can be practiced outdoor. I then discovered padel only midway through the summer, which explains why padel is a most common activity from July onwards."
   ]
  },
  {
   "cell_type": "markdown",
   "id": "2221bb8c-56e5-4c47-9efa-0f08b3574267",
   "metadata": {},
   "source": [
    "## Exploring Runs"
   ]
  },
  {
   "cell_type": "markdown",
   "id": "e925c8ca-0a8e-414f-9da3-b3b543cf0f25",
   "metadata": {},
   "source": [
    "Let's now explore the runs since it is the most common activity. It would be good to explore how my distance in runs has changed throughout the past few years. I'm going to use the original dataframe to also include all the runs I did before 2023. This will help us know \"What's the most common run distance I've performed in the past few years?\"."
   ]
  },
  {
   "cell_type": "code",
   "execution_count": null,
   "id": "d9e4af75-d7ed-4c04-a0b9-dea88f07956c",
   "metadata": {},
   "outputs": [],
   "source": [
    "# Filtering the dataframe to only select runs activities \n",
    "run_df = df[df['sport_type'] == 'Run']"
   ]
  },
  {
   "cell_type": "code",
   "execution_count": null,
   "id": "a5198858-762d-490d-938a-59538f574f31",
   "metadata": {},
   "outputs": [],
   "source": [
    "# Creating bins to categorise my runs' distances \n",
    "bin_intervals = [0, 5, 10, 15, 20, 25, 30]\n",
    "run_df = creating_bins(run_df, 'distance_km', bin_intervals, labels = [\"0-5\", \"5-10\", \"10-15\", \"15-20\", \"20-25\", \"25-30\"])"
   ]
  },
  {
   "cell_type": "code",
   "execution_count": null,
   "id": "8161a630-cb5e-45b7-b7de-34a399525dad",
   "metadata": {},
   "outputs": [],
   "source": [
    "# Calculating basic statistics of my runs' distances\n",
    "column_name = 'distance_km'\n",
    "calculating_basic_statistics(run_df, column_name)"
   ]
  },
  {
   "cell_type": "code",
   "execution_count": null,
   "id": "8854d988-0815-4496-9363-55f206525b34",
   "metadata": {},
   "outputs": [],
   "source": [
    "# Creating a kernel density plot\n",
    "plt.figure(figsize=(10, 6))\n",
    "sns.kdeplot(run_df['distance_km'], shade=True)\n",
    "\n",
    "# Set labels and title\n",
    "plt.xlabel('Distance (km)')\n",
    "plt.ylabel('Density')\n",
    "plt.title('Kernel Density Plot of My Run\\'s Distances')\n",
    "\n",
    "# Display the plot\n",
    "plt.show()"
   ]
  },
  {
   "cell_type": "markdown",
   "id": "d5b752db-4182-4184-852a-e7c1eededfcf",
   "metadata": {},
   "source": [
    "As shown by the plots above, the distribution of my run's distances is positively skewed. The mean lies between 5 and 10, whereas the median is on 5km. The mode is also on 5km, therefore, the most common type of distance ran in the past few years is the 5km one. This might be because it's been more convenient for me to go for a quick 5km run during my lunch break rather than going for a long, 30km run - which happened on very rare weekends. \n",
    "\n",
    "It might be worth exploring my 5km runs further to check if my average time has decreased at all, since the 5km runs are the ones which I've been practicing the most. This will help us answer our third research question: \"Has my average pace decreased during my fast, 5km runs throughout the past year?\""
   ]
  },
  {
   "cell_type": "markdown",
   "id": "eddc30bf-91d4-4cfd-b242-dc0c44ec551a",
   "metadata": {},
   "source": [
    "#### Exploring 5km Runs"
   ]
  },
  {
   "cell_type": "code",
   "execution_count": null,
   "id": "4849f23b-acaa-411c-8faa-720ec22a35d2",
   "metadata": {},
   "outputs": [],
   "source": [
    "# Filtering runs into 5km runs only \n",
    "short_run_df = run_df[run_df['distance_km'] == 5]"
   ]
  },
  {
   "cell_type": "code",
   "execution_count": null,
   "id": "6c1c5b06-4b12-4ace-ba1b-edcf4ee1b887",
   "metadata": {},
   "outputs": [],
   "source": [
    "# Sorting rows chronologically \n",
    "short_run_df = short_run_df.sort_values(\"start_date\")"
   ]
  },
  {
   "cell_type": "code",
   "execution_count": null,
   "id": "38fd6bfa-f434-473e-ac77-3aef31dcf78a",
   "metadata": {},
   "outputs": [],
   "source": [
    "# Computing my average pace \n",
    "short_run_df['average_pace'] = 1 / (short_run_df['average_speed'] * 60 / 1000) # converting the average speed from m/sec to km/min to compute pace\n",
    "short_run_df = short_run_df[(short_run_df['average_pace'] < 10) & (short_run_df['average_pace'] > 3)] # filtering out outliers "
   ]
  },
  {
   "cell_type": "code",
   "execution_count": null,
   "id": "da2972ac-2dcf-4550-9ca9-a368ed99a6f3",
   "metadata": {},
   "outputs": [],
   "source": [
    "# Creating a line chart\n",
    "plt.figure(figsize=(10, 6))\n",
    "plt.plot(short_run_df['start_date'], short_run_df['average_pace'], marker='o', linestyle='-', color='b')\n",
    "ticks = plt.xticks(rotation=45)"
   ]
  },
  {
   "cell_type": "markdown",
   "id": "10d0dcde-f230-4372-b4d1-02b1ecdb706b",
   "metadata": {},
   "source": [
    "As we assumed, it seems like my average pace has been decreasing throughout the past year. From November 2022 to mid-February 2023, there has been a sharp decline in average pace. This might be because I started running with friends who gave some useful feedback on how to run better. But, I also started running slower around July 2023. This is because I did not sign up to any new marathon after the one I had in June."
   ]
  },
  {
   "cell_type": "markdown",
   "id": "a371f6e5-2d24-4faa-b677-467b1cab12e8",
   "metadata": {},
   "source": [
    "## Exploring Routes"
   ]
  },
  {
   "cell_type": "markdown",
   "id": "eec1e16c-9198-4180-8f89-2aabe43a8d1a",
   "metadata": {},
   "source": [
    "Let's look at the routes of my runs and cycling activities on a map. GPX files store Strava routes, a standard file format used to store and exchange GPS data and tracks. To bulk export my files, I used this article. GPX Files are usually packed in a zip file, so I coded a way to unzip them. I also kept the non-zipped files as they are, to then store them in a separate GPX Files directory before using them. This will help us answer our last question: \"In which country/ county did I exercise the most in the past years?\""
   ]
  },
  {
   "cell_type": "markdown",
   "id": "7071ac1e-91aa-4b69-936e-ca8e5cfa07e0",
   "metadata": {},
   "source": [
    "#### Moving GPX Files into a GPX Files Directory"
   ]
  },
  {
   "cell_type": "code",
   "execution_count": 1,
   "id": "9487baa6-970b-4759-abba-12b8415ed27c",
   "metadata": {},
   "outputs": [],
   "source": [
    "import gzip\n",
    "import shutil\n",
    "import os\n",
    "from pathlib import Path"
   ]
  },
  {
   "cell_type": "code",
   "execution_count": 2,
   "id": "f393958d-e5b6-4e51-8694-5c6c7588fcca",
   "metadata": {},
   "outputs": [],
   "source": [
    "# Creating a directory of the activities \n",
    "activities_directory = Path('/Users/giorgiadimiccoli/Desktop/repos/my_strava_runs/my_strava_archive/activities/')\n",
    "\n",
    "# Creating a new directory to store all the gpx files \n",
    "gpx_files = Path('/Users/giorgiadimiccoli/Desktop/repos/my_strava_runs/my_strava_archive/gpx_files/')\n",
    "gpx_files.mkdir(parents=True)"
   ]
  },
  {
   "cell_type": "code",
   "execution_count": 3,
   "id": "ad143237-5d06-4605-b9b6-68c278b9471d",
   "metadata": {},
   "outputs": [],
   "source": [
    "# Extracting GPX files and unzipping zipped GPX files \n",
    "def extracting_gpx_files(activities_directory, gpx_files):\n",
    "    \n",
    "    # Iterating through each file in the activities directory \n",
    "    for file in activities_directory.iterdir():\n",
    "        \n",
    "        # Checking if the file has both a .gpx and .gz extension    \n",
    "        if '.gpx' in str(file) and str(file).endswith('.gz'): # Not using 'endswith' for gpx since some files contain .gpx but may end with .gz\n",
    "    \n",
    "            # Reading the gzip-compressed file in binary-read mode \n",
    "            with gzip.open(str(file), 'rb') as f_in:\n",
    "                \n",
    "                # Writing the decompressed content to a new file \n",
    "                unzipped_file = gpx_files / file.parts[-1].replace(\".gz\", \"\")\n",
    "            \n",
    "                with open(str(unzipped_file), 'wb') as f_out: \n",
    "                \n",
    "                    # Copying the content of the file with shutil\n",
    "                    shutil.copyfileobj(f_in, f_out)\n",
    "                \n",
    "        if '.gpx' in str(file) and not str(file).endswith('.gz'):\n",
    "        \n",
    "            gpx_file_path = gpx_files / file.parts[-1]\n",
    "        \n",
    "            # Moving the file from the 'activities' directory to the 'gpx_files' directory \n",
    "            shutil.move(str(file), str(gpx_file_path))"
   ]
  },
  {
   "cell_type": "code",
   "execution_count": 4,
   "id": "34513eb1-e6e3-4007-b5b4-a51ad949732e",
   "metadata": {},
   "outputs": [],
   "source": [
    "extracting_gpx_files(activities_directory, gpx_files)"
   ]
  },
  {
   "cell_type": "markdown",
   "id": "2d7c2b66-978a-430b-939a-9f22b6338ed8",
   "metadata": {},
   "source": [
    "Now that we've cleansed and stored all the GPX files in a new directory, we can iterate through each file path and turn them into a dataframe to better manipulate and analyse each activity's track."
   ]
  },
  {
   "cell_type": "code",
   "execution_count": null,
   "id": "ec50c04b-778a-4edf-8439-a3e56fee50f8",
   "metadata": {},
   "outputs": [],
   "source": [
    "# Creating a function that takes in a file path and returns a dataframe\n",
    "def gpx_files_to_df(file_path):\n",
    "    \n",
    "    # Parsing the gpx file \n",
    "    gpx = gpxpy.parse(open(file_path))   \n",
    "    \n",
    "    # Creating an empty list for each info we want to store in the df \n",
    "    lats = []\n",
    "    longs = []\n",
    "    elevs = []\n",
    "    times = []\n",
    "    \n",
    "    # Iterating through each point in the segment of the track of the gpx file\n",
    "    for point in gpx.tracks[0].segments[0].points:\n",
    "    \n",
    "    # Appending each info from the point to the correspondent empty list\n",
    "        lats.append(point.latitude)\n",
    "        longs.append(point.longitude)\n",
    "        elevs.append(point.elevation)\n",
    "        times.append(point.time)\n",
    "        \n",
    "    # Creating a dataframe with the information as names of the columns \n",
    "    my_df = pd.DataFrame.from_dict(\n",
    "    {\n",
    "        \"longitude\": longs,\n",
    "        \"latitude\": lats,\n",
    "        \"elevation\": elevs,\n",
    "        \"time\": times,\n",
    "    }\n",
    "    )\n",
    "    return my_df"
   ]
  },
  {
   "cell_type": "code",
   "execution_count": null,
   "id": "ec5f862b-50dc-462a-b259-1620acfdd4d4",
   "metadata": {},
   "outputs": [],
   "source": [
    "import gpxpy\n",
    "\n",
    "# Creating an empty list of dataframes\n",
    "list_of_dfs = []\n",
    "\n",
    "# Looping over each file\n",
    "for file in os.listdir(gpx_files): # Listing all the files in the 'gpx_files' directory\n",
    "    # Creating the file path by combining its name to the 'gpx_files'\n",
    "    file = gpx_files + \"/\" + file\n",
    "    # Applying the 'gpx_files_to_df' function to the file and assigning the result to 'dfed_file'\n",
    "    dfed_file = gpx_files_to_df(file)\n",
    "    # Appending all the 'dfed_file'(s) to the list of empty dataframes \n",
    "    list_of_dfs.append(dfed_file)"
   ]
  },
  {
   "cell_type": "markdown",
   "id": "c39efe8e-2e11-4232-829b-02aab9b5a89a",
   "metadata": {},
   "source": [
    "Now it's time to create our maps! Let's import folium, a package that allows us to create interactive geographic visualisations. \n",
    "Since having the maps in the Jupyter Notebook would take too much memory, I have created the maps first, took their screenshots, and then removed them from the notebook and loaded up the screenshots. "
   ]
  },
  {
   "cell_type": "markdown",
   "id": "3adf466d-61b5-47b7-8b06-a411d0061eab",
   "metadata": {},
   "source": [
    "#### Creating Maps and Strava Routes"
   ]
  },
  {
   "cell_type": "code",
   "execution_count": null,
   "id": "d92c5439-4086-42aa-8868-7327c99721fd",
   "metadata": {},
   "outputs": [],
   "source": [
    "# Using geospatial analysis to visualize my Strava routes with the folium package\n",
    "import folium\n",
    "\n",
    "route_map = folium.Map( # creating a map through folium.Map \n",
    "    location=[51.752457, -1.230000], # giving coordinates \n",
    "    zoom_start=13, # setting where the zoom starts \n",
    "    tiles='OpenStreetMap', # setting the map tile \n",
    "    width='100%', # choosing the width of the map \n",
    "    height='100%' # choosing the height of the map \n",
    ")"
   ]
  },
  {
   "cell_type": "code",
   "execution_count": null,
   "id": "6b6c98cd-bad8-40f3-a60f-aa425ed5dad0",
   "metadata": {},
   "outputs": [],
   "source": [
    "# Creating a map of the routes \n",
    "for df in list_of_dfs:\n",
    "    for _, row in df.iterrows(): # Iterating through each row in the first dataframe from the list of dataframes \n",
    "        folium.CircleMarker( # dding a circle marker at each longitude and latitude combination\n",
    "            location=[row['latitude'], row['longitude']],\n",
    "            radius=3, # setting the circle radius to 3 \n",
    "        ).add_to(route_map) # adding the markers to the map "
   ]
  },
  {
   "cell_type": "code",
   "execution_count": null,
   "id": "f4729de8-dcbc-48e4-8343-aa1e079ab0a2",
   "metadata": {},
   "outputs": [],
   "source": [
    "# Connecting circle markers in a polygon line to properly represent the route \n",
    "route_map = folium.Map( # creating a map through folium.Map \n",
    "    location=[51.752457, -1.230000], # giving coordinates of Oxford to start with \n",
    "    zoom_start=13, # setting where the zoom starts \n",
    "    tiles='OpenStreetMap', # adjusting the map tile to make the route stand out more \n",
    "    width='100%', # choosing the width of the map \n",
    "    height='100%' # choosing the height of the map \n",
    ")\n",
    "\n",
    "# Creating a nested for loop to connect the circle markers\n",
    "for df in list_of_dfs: # iterating through the list of dataframes\n",
    "    for row in df: # looping through each row in the dataframe we are iterating through \n",
    "        coordinates = [tuple(x) for x in df[['latitude', 'longitude']].to_numpy()] # Extracting geolocation info as a list of tuples \n",
    "        folium.PolyLine( # Creating the polylines with the list of tuples\n",
    "            coordinates,\n",
    "            weight=3 # choosing the line thickness in pixels\n",
    "        ).add_to(route_map) # adding them back to the route_map "
   ]
  },
  {
   "cell_type": "markdown",
   "id": "eaa68faa-112f-4ac3-bf2b-67bfc1b6c339",
   "metadata": {
    "tags": []
   },
   "source": [
    "#### Showing my Strava Routes"
   ]
  },
  {
   "cell_type": "code",
   "execution_count": null,
   "id": "231ddf22-683a-4c6c-a709-350dc9bb32b0",
   "metadata": {},
   "outputs": [],
   "source": [
    "# Getting the current working directory (root directory)\n",
    "root_directory = os.getcwd()\n",
    "\n",
    "# Iterating over all files in the root directory\n",
    "for filename in os.listdir(root_directory):\n",
    "    # Checking if the file has an Open Street Map tile layer\n",
    "    if \"_openstreetmap_\" in filename:\n",
    "        # Displaying the Open Street Map images using IPython.display.Image\n",
    "        img_path = os.path.join(root_directory, filename)\n",
    "        display(Image(filename=img_path))"
   ]
  },
  {
   "cell_type": "markdown",
   "id": "708acb18-8fd7-4cf6-a2cd-9a8fa8540499",
   "metadata": {},
   "source": [
    "Here above, we can see the routes of my Strava activities on the maps of Exmoor and Snowdonia. \n",
    "\n",
    "To reduce as much noise as possible, we could use a different tile layer named `'CartoDBPositron'`. Let's apply it to the Oxfordshire map, since it's most probably the one with the highest activity density because I am currently living in Oxford."
   ]
  },
  {
   "cell_type": "code",
   "execution_count": null,
   "id": "4d5a1727-622d-48c7-8840-bb7fc212cd97",
   "metadata": {
    "tags": []
   },
   "outputs": [],
   "source": [
    "# Displaying a map with the tile layer 'CartoDBPositron'\n",
    "display(Image(filename='oxf_map_card_screenshot.png'))"
   ]
  },
  {
   "cell_type": "markdown",
   "id": "d5b63336-321b-4d1d-b79f-0d2983f4ba6b",
   "metadata": {},
   "source": [
    "Let's also create a dark map with the tile layer `'CartoDBDark_Matter'`. Let's do that for the Cambridge data, since it has an interesting shape."
   ]
  },
  {
   "cell_type": "code",
   "execution_count": null,
   "id": "3d3eeeaf-0503-43a9-93cd-f218291e2841",
   "metadata": {},
   "outputs": [],
   "source": [
    "# Displaying a map with the tile layer 'CartoDBDark_Matter'\n",
    "display(Image(filename='cam_dark_map_screenshot.png'))"
   ]
  },
  {
   "cell_type": "markdown",
   "id": "94ad726f-d087-47da-986a-7202b0022b8e",
   "metadata": {},
   "source": [
    "It looks like the majority of my activities in the past year has been performed the Oxfordshire county, which is the area where I'm currently living in. Some other activities have been performed in Exmoor and Wales due to trail half marathons, and in Cambridge where I used to live."
   ]
  },
  {
   "cell_type": "markdown",
   "id": "ae768ddb-b7d0-4014-bdc4-99738a9b38ee",
   "metadata": {},
   "source": [
    "## Conclusion"
   ]
  },
  {
   "cell_type": "markdown",
   "id": "bf799347-8752-4cce-a990-2f39001c5d75",
   "metadata": {},
   "source": [
    "The purpose of this project was to explore my physical exercise activities performed throughout the past few years. We scraped the data from my Strava account using the APIs they provide and downloaded the data locally to explore it, cleanse it, and analyse it. \n",
    "\n",
    "Here's what we've discovered so far:\n",
    "    \n",
    "- The most frequent activity that I've performed in the past six months was running. This might be because of my trainings for multiple half marathons. \n",
    "- The most common run distance I've performed in the past few years is the 5km distance. This is because I found it more convenient to run shorter distance due to a busy lifestyle. \n",
    "- My average pace decreased during my fast, 5km runs throughout the past year, with a constant up-and-down rhythm between 4:30 /km and 5:00 /km. A reason could be that I set myself the goal of improving my running performance for the Trail Half Marathon in June 2023, thus aimed at running my 5km runs better and faster.\n",
    "- Oxfordshire, followed by Cambridgeshire and some areas of Exmoor and Wales, is the county where I exercised the most in the past years.\n",
    "\n",
    "Here are the recommendations which could be used for further data exploration: \n",
    "- Design some time series visualisations to track my fitness progress over time, including metrics such as heart rate and calories burned. \n",
    "- Create a radar chart or parallel coordinate plots to compare my performance with the one of my partner or my friends across different statistical categories.\n",
    "- Plot a chart to compare the rankings of different teams during padel tournaments based on performance metrics such as defense, offense, and/ or overall rating. "
   ]
  }
 ],
 "metadata": {
  "kernelspec": {
   "display_name": "Python 3 (ipykernel)",
   "language": "python",
   "name": "python3"
  },
  "language_info": {
   "codemirror_mode": {
    "name": "ipython",
    "version": 3
   },
   "file_extension": ".py",
   "mimetype": "text/x-python",
   "name": "python",
   "nbconvert_exporter": "python",
   "pygments_lexer": "ipython3",
   "version": "3.9.12"
  }
 },
 "nbformat": 4,
 "nbformat_minor": 5
}
